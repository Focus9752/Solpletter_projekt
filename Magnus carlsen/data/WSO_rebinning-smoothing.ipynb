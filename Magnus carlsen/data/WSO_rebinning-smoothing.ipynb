{
 "cells": [
  {
   "cell_type": "code",
   "execution_count": 3,
   "metadata": {},
   "outputs": [
    {
     "name": "stdout",
     "output_type": "stream",
     "text": [
      "[1976.41820671 1976.44404517 1976.47142368 ... 2024.00154004 2024.02737851\n",
      " 2024.05475702]\n"
     ]
    }
   ],
   "source": [
    "import numpy as np\n",
    "import matplotlib.pyplot as plt\n",
    "import pandas as pd\n",
    "\n",
    "# Indlæs data\n",
    "\n",
    "loc1 = r\"C:\\Users\\marcu\\OneDrive\\Documents\\GitHub\\Solpletter_projekt\\Magnus carlsen\\data\\WSO_polar2_fixed.csv\"\n",
    "\n",
    "column_names = ['Date', 'North', 'South', 'Average', 'val4', 'colon', 'val5', 'val6', 'val7']\n",
    "wso_raw_data = pd.read_csv(loc1, names=column_names, delimiter=',')\n",
    "\n",
    "# WSO data\n",
    "wso_date_arr = wso_raw_data['Date'].values\n",
    "wso_north_arr = wso_raw_data['North'].values.astype(float)\n",
    "wso_south_arr = wso_raw_data['South'].values.astype(float)\n",
    "wso_average_arr = wso_raw_data['Average'].values.astype(float)\n",
    "\n",
    "# Konverter til absolutværdi af gennemsnit\n",
    "wso_average_arr = np.abs(wso_average_arr)\n",
    "\n",
    "# Grupper data i måneder\n",
    "\n"
   ]
  }
 ],
 "metadata": {
  "kernelspec": {
   "display_name": "base",
   "language": "python",
   "name": "python3"
  },
  "language_info": {
   "codemirror_mode": {
    "name": "ipython",
    "version": 3
   },
   "file_extension": ".py",
   "mimetype": "text/x-python",
   "name": "python",
   "nbconvert_exporter": "python",
   "pygments_lexer": "ipython3",
   "version": "3.11.4"
  }
 },
 "nbformat": 4,
 "nbformat_minor": 2
}
