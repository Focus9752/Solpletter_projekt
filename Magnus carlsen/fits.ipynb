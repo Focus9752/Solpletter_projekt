{
 "cells": [
  {
   "cell_type": "code",
   "execution_count": 91,
   "metadata": {},
   "outputs": [],
   "source": [
    "import numpy as np\n",
    "import matplotlib.pyplot as plt\n",
    "import pandas as pd\n",
    "from scipy.optimize import curve_fit"
   ]
  },
  {
   "cell_type": "code",
   "execution_count": 92,
   "metadata": {},
   "outputs": [],
   "source": [
    "# Indlæs data\n",
    "\n",
    "loc1 = r\"C:\\Users\\marcu\\OneDrive\\Documents\\GitHub\\Solpletter_projekt\\Magnus carlsen\\data\\13-month smoothed monthly total sunspot number 1-1749 to now.csv\"\n",
    "loc2 = r\"C:\\Users\\marcu\\OneDrive\\Documents\\GitHub\\Solpletter_projekt\\Magnus carlsen\\data\\WSO_smoothed.csv\"\n",
    "\n",
    "column_names = ['Year', 'Year_fraction', 'Monthly_smoothed_sunspot_number', 'Uncertainty', 'N_obs', 'DefProvMarker']\n",
    "sunspot_raw_data = pd.read_csv(loc1, names=column_names, delimiter=';', skiprows=1)\n",
    "sunspot_raw_data = sunspot_raw_data.iloc[6:-6]\n",
    "\n",
    "# Sunspot data\n",
    "SSN_date_fraction_arr = sunspot_raw_data['Year_fraction'].values.astype(float)\n",
    "SSN_arr = sunspot_raw_data['Monthly_smoothed_sunspot_number'].values.astype(float)\n",
    "SSN_d_arr = sunspot_raw_data['Uncertainty'].values.astype(float)\n",
    "\n",
    "# WSO data\n",
    "wso_raw_data = np.genfromtxt(loc2, delimiter=',', skip_header=1)\n",
    "\n",
    "wso_date_fraction_arr = wso_raw_data[:, 0]\n",
    "wso_number_arr = wso_raw_data[:, 1]\n",
    "\n",
    "# Størrelse på punkterne i scatterplottet\n",
    "ScatterSize = 1\n",
    "\n",
    "\n"
   ]
  },
  {
   "cell_type": "markdown",
   "metadata": {},
   "source": [
    "# Fits med n sinusfkt."
   ]
  },
  {
   "cell_type": "code",
   "execution_count": 134,
   "metadata": {},
   "outputs": [
    {
     "ename": "RuntimeError",
     "evalue": "Optimal parameters not found: Number of calls to function has reached maxfev = 3400.",
     "output_type": "error",
     "traceback": [
      "\u001b[1;31m---------------------------------------------------------------------------\u001b[0m",
      "\u001b[1;31mRuntimeError\u001b[0m                              Traceback (most recent call last)",
      "Cell \u001b[1;32mIn[134], line 28\u001b[0m\n\u001b[0;32m     25\u001b[0m         popt, _ \u001b[38;5;241m=\u001b[39m curve_fit(single_sine, X, Y)\n\u001b[0;32m     26\u001b[0m     \u001b[38;5;28;01melse\u001b[39;00m:\n\u001b[0;32m     27\u001b[0m         \u001b[38;5;66;03m# Fit flere sinfkt\u001b[39;00m\n\u001b[1;32m---> 28\u001b[0m         popt, _ \u001b[38;5;241m=\u001b[39m curve_fit(multiple_sines, X, Y, sigma\u001b[38;5;241m=\u001b[39mSSN_d_arr, absolute_sigma\u001b[38;5;241m=\u001b[39m\u001b[38;5;28;01mTrue\u001b[39;00m, p0\u001b[38;5;241m=\u001b[39mparams)\n\u001b[0;32m     29\u001b[0m     params\u001b[38;5;241m.\u001b[39mextend(popt[:\u001b[38;5;241m4\u001b[39m])\n\u001b[0;32m     31\u001b[0m \u001b[38;5;66;03m# Plot data og fit\u001b[39;00m\n",
      "File \u001b[1;32mc:\\Users\\marcu\\anaconda3\\Lib\\site-packages\\scipy\\optimize\\_minpack_py.py:864\u001b[0m, in \u001b[0;36mcurve_fit\u001b[1;34m(f, xdata, ydata, p0, sigma, absolute_sigma, check_finite, bounds, method, jac, full_output, **kwargs)\u001b[0m\n\u001b[0;32m    862\u001b[0m     cost \u001b[38;5;241m=\u001b[39m np\u001b[38;5;241m.\u001b[39msum(infodict[\u001b[38;5;124m'\u001b[39m\u001b[38;5;124mfvec\u001b[39m\u001b[38;5;124m'\u001b[39m] \u001b[38;5;241m*\u001b[39m\u001b[38;5;241m*\u001b[39m \u001b[38;5;241m2\u001b[39m)\n\u001b[0;32m    863\u001b[0m     \u001b[38;5;28;01mif\u001b[39;00m ier \u001b[38;5;129;01mnot\u001b[39;00m \u001b[38;5;129;01min\u001b[39;00m [\u001b[38;5;241m1\u001b[39m, \u001b[38;5;241m2\u001b[39m, \u001b[38;5;241m3\u001b[39m, \u001b[38;5;241m4\u001b[39m]:\n\u001b[1;32m--> 864\u001b[0m         \u001b[38;5;28;01mraise\u001b[39;00m \u001b[38;5;167;01mRuntimeError\u001b[39;00m(\u001b[38;5;124m\"\u001b[39m\u001b[38;5;124mOptimal parameters not found: \u001b[39m\u001b[38;5;124m\"\u001b[39m \u001b[38;5;241m+\u001b[39m errmsg)\n\u001b[0;32m    865\u001b[0m \u001b[38;5;28;01melse\u001b[39;00m:\n\u001b[0;32m    866\u001b[0m     \u001b[38;5;66;03m# Rename maxfev (leastsq) to max_nfev (least_squares), if specified.\u001b[39;00m\n\u001b[0;32m    867\u001b[0m     \u001b[38;5;28;01mif\u001b[39;00m \u001b[38;5;124m'\u001b[39m\u001b[38;5;124mmax_nfev\u001b[39m\u001b[38;5;124m'\u001b[39m \u001b[38;5;129;01mnot\u001b[39;00m \u001b[38;5;129;01min\u001b[39;00m kwargs:\n",
      "\u001b[1;31mRuntimeError\u001b[0m: Optimal parameters not found: Number of calls to function has reached maxfev = 3400."
     ]
    }
   ],
   "source": [
    "import numpy as np\n",
    "from scipy.optimize import curve_fit\n",
    "\n",
    "# Enkelt sinfkt\n",
    "def single_sine(x, amplitude, frequency, phase, offset):\n",
    "    return amplitude * np.sin(frequency * x + phase) + offset\n",
    "\n",
    "# n sinfkt med egne parametre\n",
    "def multiple_sines(x, *params):\n",
    "    n = len(params) // 4\n",
    "    result = np.zeros_like(x)\n",
    "    for i in range(n):\n",
    "        result += single_sine(x, *params[i*4:(i+1)*4])\n",
    "    return result\n",
    "\n",
    "params = []\n",
    "n_waves = 5\n",
    "\n",
    "X = SSN_date_fraction_arr\n",
    "Y = SSN_arr\n",
    "\n",
    "for i in range(n_waves):\n",
    "    if i == 0:\n",
    "        # Fit enkelt sinfkt\n",
    "        popt, _ = curve_fit(single_sine, X, Y)\n",
    "    else:\n",
    "        # Fit flere sinfkt\n",
    "        popt, _ = curve_fit(multiple_sines, X, Y, sigma=SSN_d_arr, absolute_sigma=True, p0=params)\n",
    "    params.extend(popt[:4])\n",
    "\n",
    "# Plot data og fit\n",
    "plt.plot(X, Y, label='Data')\n",
    "plt.plot(X, multiple_sines(X, *params), label='Fit')\n",
    "plt.legend()\n",
    "plt.show()\n",
    "\n",
    "\n"
   ]
  }
 ],
 "metadata": {
  "kernelspec": {
   "display_name": "base",
   "language": "python",
   "name": "python3"
  },
  "language_info": {
   "codemirror_mode": {
    "name": "ipython",
    "version": 3
   },
   "file_extension": ".py",
   "mimetype": "text/x-python",
   "name": "python",
   "nbconvert_exporter": "python",
   "pygments_lexer": "ipython3",
   "version": "3.11.4"
  }
 },
 "nbformat": 4,
 "nbformat_minor": 2
}
