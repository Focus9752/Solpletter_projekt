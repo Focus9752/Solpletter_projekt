{
 "cells": [
  {
   "cell_type": "code",
   "execution_count": null,
   "metadata": {},
   "outputs": [],
   "source": [
    "import numpy as np\n",
    "import pandas as pd\n",
    "import matplotlib.pyplot as plt\n",
    "\n",
    "# Importer data\n",
    "\n",
    "loc1 = r\"C:\\Users\\marcu\\OneDrive\\Documents\\GitHub\\Solpletter_projekt\\Magnus carlsen\\data\\13-month smoothed monthly total sunspot number 1-1749 to now.csv\"\n",
    "loc2 = r\"Magnus carlsen/data/WSO_smoothed.csv\"\n",
    "\n",
    "column_names = ['Year', 'Year_fraction', 'Monthly_smoothed_sunspot_number', 'U1', 'U2', 'U3']\n",
    "sunspot_raw_data = pd.read_csv(loc1, names=column_names, delimiter=';')\n",
    "sunspot_raw_data = sunspot_raw_data.iloc[6:-6]\n",
    "\n",
    "# Sunspot data\n",
    "sunspot_date_fraction_arr = sunspot_raw_data['Year_fraction'].values.astype(float)\n",
    "sunspot_number_arr = sunspot_raw_data['Monthly_smoothed_sunspot_number'].values.astype(float)\n",
    "\n",
    "\n"
   ]
  }
 ],
 "metadata": {
  "language_info": {
   "name": "python"
  }
 },
 "nbformat": 4,
 "nbformat_minor": 2
}
